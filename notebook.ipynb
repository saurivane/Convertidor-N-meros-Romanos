{
 "cells": [
  {
   "cell_type": "code",
   "execution_count": 3,
   "metadata": {},
   "outputs": [
    {
     "name": "stdout",
     "output_type": "stream",
     "text": [
      "============================= test session starts =============================\n",
      "platform win32 -- Python 3.9.13, pytest-7.3.1, pluggy-1.0.0 -- C:\\Users\\sauri\\AppData\\Local\\Programs\\Python\\Python39\\python.exe\n",
      "cachedir: .pytest_cache\n",
      "rootdir: c:\\Users\\sauri\\Documents\\Proyectos\\python\\Romanos\n",
      "plugins: anyio-3.6.1, notion-1.0.1\n",
      "collecting ... collected 26 items\n",
      "\n",
      "test_romanos.py::test_romanos_2 PASSED                                   [  3%]\n",
      "test_romanos.py::test_romanos_3 PASSED                                   [  7%]\n",
      "test_romanos.py::test_romanos_4 PASSED                                   [ 11%]\n",
      "test_romanos.py::test_romanos_5 PASSED                                   [ 15%]\n",
      "test_romanos.py::test_romanos_9 PASSED                                   [ 19%]\n",
      "test_romanos.py::test_romanos_12 PASSED                                  [ 23%]\n",
      "test_romanos.py::test_romanos_16 PASSED                                  [ 26%]\n",
      "test_romanos.py::test_romanos_29 PASSED                                  [ 30%]\n",
      "test_romanos.py::test_romanos_45 PASSED                                  [ 34%]\n",
      "test_romanos.py::test_romanos_68 PASSED                                  [ 38%]\n",
      "test_romanos.py::test_romanos_83 PASSED                                  [ 42%]\n",
      "test_romanos.py::test_romanos_97 PASSED                                  [ 46%]\n",
      "test_romanos.py::test_romanos_99 PASSED                                  [ 50%]\n",
      "test_romanos.py::test_romanos_400 PASSED                                 [ 53%]\n",
      "test_romanos.py::test_romanos_500 PASSED                                 [ 57%]\n",
      "test_romanos.py::test_romanos_501 PASSED                                 [ 61%]\n",
      "test_romanos.py::test_romanos_649 PASSED                                 [ 65%]\n",
      "test_romanos.py::test_romanos_798 PASSED                                 [ 69%]\n",
      "test_romanos.py::test_romanos_891 PASSED                                 [ 73%]\n",
      "test_romanos.py::test_romanos_1000 PASSED                                [ 76%]\n",
      "test_romanos.py::test_romanos_1004 PASSED                                [ 80%]\n",
      "test_romanos.py::test_romanos_1006 PASSED                                [ 84%]\n",
      "test_romanos.py::test_romanos_1023 PASSED                                [ 88%]\n",
      "test_romanos.py::test_romanos_2000 PASSED                                [ 92%]\n",
      "test_romanos.py::test_romanos_4570 PASSED                                [ 96%]\n",
      "test_romanos.py::test_romanos_negativo PASSED                            [100%]\n",
      "\n",
      "============================= 26 passed in 0.04s ==============================\n"
     ]
    }
   ],
   "source": [
    "!pytest -v"
   ]
  }
 ],
 "metadata": {
  "kernelspec": {
   "display_name": "Python 3",
   "language": "python",
   "name": "python3"
  },
  "language_info": {
   "codemirror_mode": {
    "name": "ipython",
    "version": 3
   },
   "file_extension": ".py",
   "mimetype": "text/x-python",
   "name": "python",
   "nbconvert_exporter": "python",
   "pygments_lexer": "ipython3",
   "version": "3.9.13"
  },
  "orig_nbformat": 4
 },
 "nbformat": 4,
 "nbformat_minor": 2
}
