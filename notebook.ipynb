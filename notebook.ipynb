{
 "cells": [
  {
   "cell_type": "code",
   "execution_count": 1,
   "metadata": {},
   "outputs": [
    {
     "name": "stdout",
     "output_type": "stream",
     "text": [
      "============================= test session starts =============================\n",
      "platform win32 -- Python 3.9.13, pytest-7.3.1, pluggy-1.0.0 -- C:\\Users\\sauri\\AppData\\Local\\Programs\\Python\\Python39\\python.exe\n",
      "cachedir: .pytest_cache\n",
      "rootdir: c:\\Users\\sauri\\Documents\\Proyectos\\python\\Romanos\n",
      "plugins: anyio-3.6.1, notion-1.0.1\n",
      "collecting ... collected 28 items\n",
      "\n",
      "test_romanos.py::test_romanos_2 PASSED                                   [  3%]\n",
      "test_romanos.py::test_romanos_3 PASSED                                   [  7%]\n",
      "test_romanos.py::test_romanos_4 PASSED                                   [ 10%]\n",
      "test_romanos.py::test_romanos_5 PASSED                                   [ 14%]\n",
      "test_romanos.py::test_romanos_9 PASSED                                   [ 17%]\n",
      "test_romanos.py::test_romanos_12 PASSED                                  [ 21%]\n",
      "test_romanos.py::test_romanos_16 PASSED                                  [ 25%]\n",
      "test_romanos.py::test_romanos_29 PASSED                                  [ 28%]\n",
      "test_romanos.py::test_romanos_45 PASSED                                  [ 32%]\n",
      "test_romanos.py::test_romanos_68 PASSED                                  [ 35%]\n",
      "test_romanos.py::test_romanos_83 PASSED                                  [ 39%]\n",
      "test_romanos.py::test_romanos_97 PASSED                                  [ 42%]\n",
      "test_romanos.py::test_romanos_99 PASSED                                  [ 46%]\n",
      "test_romanos.py::test_romanos_400 PASSED                                 [ 50%]\n",
      "test_romanos.py::test_romanos_500 PASSED                                 [ 53%]\n",
      "test_romanos.py::test_romanos_501 PASSED                                 [ 57%]\n",
      "test_romanos.py::test_romanos_649 PASSED                                 [ 60%]\n",
      "test_romanos.py::test_romanos_798 PASSED                                 [ 64%]\n",
      "test_romanos.py::test_romanos_891 PASSED                                 [ 67%]\n",
      "test_romanos.py::test_romanos_1000 PASSED                                [ 71%]\n",
      "test_romanos.py::test_romanos_1004 PASSED                                [ 75%]\n",
      "test_romanos.py::test_romanos_1006 PASSED                                [ 78%]\n",
      "test_romanos.py::test_romanos_1023 PASSED                                [ 82%]\n",
      "test_romanos.py::test_romanos_2000 PASSED                                [ 85%]\n",
      "test_romanos.py::test_romanos_4570 PASSED                                [ 89%]\n",
      "test_romanos.py::test_romanos_negativo PASSED                            [ 92%]\n",
      "test_romanos.py::test_romanos_caracter_a PASSED                          [ 96%]\n",
      "test_romanos.py::test_romanos_caracter_punto PASSED                      [100%]\n",
      "\n",
      "============================= 28 passed in 0.04s ==============================\n"
     ]
    }
   ],
   "source": [
    "!pytest -v"
   ]
  }
 ],
 "metadata": {
  "kernelspec": {
   "display_name": "Python 3",
   "language": "python",
   "name": "python3"
  },
  "language_info": {
   "codemirror_mode": {
    "name": "ipython",
    "version": 3
   },
   "file_extension": ".py",
   "mimetype": "text/x-python",
   "name": "python",
   "nbconvert_exporter": "python",
   "pygments_lexer": "ipython3",
   "version": "3.9.13"
  },
  "orig_nbformat": 4
 },
 "nbformat": 4,
 "nbformat_minor": 2
}
