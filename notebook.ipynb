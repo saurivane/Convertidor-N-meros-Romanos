{
 "cells": [
  {
   "cell_type": "code",
   "execution_count": 2,
   "metadata": {},
   "outputs": [
    {
     "name": "stdout",
     "output_type": "stream",
     "text": [
      "============================= test session starts =============================\n",
      "platform win32 -- Python 3.9.13, pytest-7.3.1, pluggy-1.0.0 -- C:\\Users\\sauri\\AppData\\Local\\Programs\\Python\\Python39\\python.exe\n",
      "cachedir: .pytest_cache\n",
      "rootdir: c:\\Users\\sauri\\Documents\\Proyectos\\python\\Romanos\n",
      "plugins: anyio-3.6.1, notion-1.0.1\n",
      "collecting ... collected 23 items\n",
      "\n",
      "test_romanos.py::test_romanos_2 PASSED                                   [  4%]\n",
      "test_romanos.py::test_romanos_3 PASSED                                   [  8%]\n",
      "test_romanos.py::test_romanos_4 PASSED                                   [ 13%]\n",
      "test_romanos.py::test_romanos_5 PASSED                                   [ 17%]\n",
      "test_romanos.py::test_romanos_9 PASSED                                   [ 21%]\n",
      "test_romanos.py::test_romanos_12 PASSED                                  [ 26%]\n",
      "test_romanos.py::test_romanos_16 PASSED                                  [ 30%]\n",
      "test_romanos.py::test_romanos_29 PASSED                                  [ 34%]\n",
      "test_romanos.py::test_romanos_45 PASSED                                  [ 39%]\n",
      "test_romanos.py::test_romanos_68 PASSED                                  [ 43%]\n",
      "test_romanos.py::test_romanos_83 PASSED                                  [ 47%]\n",
      "test_romanos.py::test_romanos_97 PASSED                                  [ 52%]\n",
      "test_romanos.py::test_romanos_99 PASSED                                  [ 56%]\n",
      "test_romanos.py::test_romanos_400 PASSED                                 [ 60%]\n",
      "test_romanos.py::test_romanos_500 PASSED                                 [ 65%]\n",
      "test_romanos.py::test_romanos_501 PASSED                                 [ 69%]\n",
      "test_romanos.py::test_romanos_649 PASSED                                 [ 73%]\n",
      "test_romanos.py::test_romanos_798 PASSED                                 [ 78%]\n",
      "test_romanos.py::test_romanos_891 PASSED                                 [ 82%]\n",
      "test_romanos.py::test_romanos_1000 PASSED                                [ 86%]\n",
      "test_romanos.py::test_romanos_1004 PASSED                                [ 91%]\n",
      "test_romanos.py::test_romanos_1006 PASSED                                [ 95%]\n",
      "test_romanos.py::test_romanos_1023 PASSED                                [100%]\n",
      "\n",
      "============================= 23 passed in 0.03s ==============================\n"
     ]
    }
   ],
   "source": [
    "!pytest -v"
   ]
  }
 ],
 "metadata": {
  "kernelspec": {
   "display_name": "Python 3",
   "language": "python",
   "name": "python3"
  },
  "language_info": {
   "codemirror_mode": {
    "name": "ipython",
    "version": 3
   },
   "file_extension": ".py",
   "mimetype": "text/x-python",
   "name": "python",
   "nbconvert_exporter": "python",
   "pygments_lexer": "ipython3",
   "version": "3.9.13"
  },
  "orig_nbformat": 4
 },
 "nbformat": 4,
 "nbformat_minor": 2
}
